{
 "cells": [
  {
   "cell_type": "markdown",
   "id": "0cec08fb-fd24-4543-9d00-e40d2f1d0270",
   "metadata": {},
   "source": [
    "<H1>Data Science Tools and Ecosystem</H1>"
   ]
  },
  {
   "cell_type": "markdown",
   "id": "2e17f357-d069-4c5d-af4f-f72865e43804",
   "metadata": {},
   "source": [
    "In this notebook, Data Science Tools and Ecosystem are summarized."
   ]
  },
  {
   "cell_type": "markdown",
   "id": "54a3e763-5663-4f1c-931a-3e75fa73fa43",
   "metadata": {},
   "source": [
    "**Objectives:**\n",
    "- List popular languages for Data Science\n",
    "- Libraries used by Data Scientists\n",
    "- Data Science Tools\n",
    "- Evaluating arithmetic expressions"
   ]
  },
  {
   "cell_type": "markdown",
   "id": "0e5b6d8f-49b9-44ba-bf93-da15cd1d8bb1",
   "metadata": {},
   "source": [
    "Some of the popular languages that Data Scientists use are:\n",
    "1. Python\n",
    "2. R language\n",
    "3. SQL\n",
    "4. Scala\n",
    "5. Ruby"
   ]
  },
  {
   "cell_type": "markdown",
   "id": "5e272b35-22df-4cd0-996d-f9f83588fafc",
   "metadata": {},
   "source": [
    "Some of the commonly used libraries used by Data Scientists include:\n",
    "1. TensorFlow\n",
    "2. Pandas\n",
    "3. PyTorch\n",
    "4. Scikit-learn\n",
    "5. NumPy\n",
    "6. SciPy"
   ]
  },
  {
   "cell_type": "markdown",
   "id": "a2da2cdf-552f-49f1-a1a6-b16fa66e8d81",
   "metadata": {},
   "source": [
    "| Data Science Tools |\n",
    "| :--: |\n",
    "| Watson Studio |\n",
    "| Git and GitHub |\n",
    "| Anaconda |"
   ]
  },
  {
   "cell_type": "markdown",
   "id": "fefaa3aa-32ac-4e5c-a803-0e214f3a71f8",
   "metadata": {},
   "source": [
    "<H3>Below are a few examples of evaluating arithmetic expressions in Python"
   ]
  },
  {
   "cell_type": "code",
   "execution_count": 4,
   "id": "70a48820-5f40-4816-831c-92318be87824",
   "metadata": {},
   "outputs": [
    {
     "data": {
      "text/plain": [
       "17"
      ]
     },
     "execution_count": 4,
     "metadata": {},
     "output_type": "execute_result"
    }
   ],
   "source": [
    "#This a simple arithmetic expression to mutiply then add integers\n",
    "(3*4)+5"
   ]
  },
  {
   "cell_type": "code",
   "execution_count": 6,
   "id": "5204e297-c0e0-4a10-9aec-888c8ce195a2",
   "metadata": {},
   "outputs": [
    {
     "data": {
      "text/plain": [
       "3"
      ]
     },
     "execution_count": 6,
     "metadata": {},
     "output_type": "execute_result"
    }
   ],
   "source": [
    "#This will convert 200 minutes to hours by diving by 60\n",
    "200//60"
   ]
  },
  {
   "cell_type": "markdown",
   "id": "3f405249-ef73-4384-841b-a97a8fe59c67",
   "metadata": {},
   "source": [
    "<H2>Author"
   ]
  },
  {
   "cell_type": "markdown",
   "id": "81afe6c1-ec6e-40f3-a1ee-8aef8b1a15b4",
   "metadata": {},
   "source": [
    "Divyardhansinh Jadeja"
   ]
  },
  {
   "cell_type": "code",
   "execution_count": null,
   "id": "0cf4d6b9-5ca5-41a9-a688-22548700deb5",
   "metadata": {},
   "outputs": [],
   "source": []
  }
 ],
 "metadata": {
  "kernelspec": {
   "display_name": "Python",
   "language": "python",
   "name": "conda-env-python-py"
  },
  "language_info": {
   "codemirror_mode": {
    "name": "ipython",
    "version": 3
   },
   "file_extension": ".py",
   "mimetype": "text/x-python",
   "name": "python",
   "nbconvert_exporter": "python",
   "pygments_lexer": "ipython3",
   "version": "3.7.12"
  }
 },
 "nbformat": 4,
 "nbformat_minor": 5
}
